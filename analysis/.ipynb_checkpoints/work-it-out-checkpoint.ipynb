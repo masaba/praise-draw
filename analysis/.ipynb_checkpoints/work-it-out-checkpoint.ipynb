{
 "cells": [
  {
   "cell_type": "code",
   "execution_count": 1,
   "metadata": {},
   "outputs": [
    {
     "ename": "ImportError",
     "evalue": "No module named pymongo",
     "output_type": "error",
     "traceback": [
      "\u001b[0;31m---------------------------------------------------------------------------\u001b[0m",
      "\u001b[0;31mImportError\u001b[0m                               Traceback (most recent call last)",
      "\u001b[0;32m<ipython-input-1-834d0b624f75>\u001b[0m in \u001b[0;36m<module>\u001b[0;34m()\u001b[0m\n\u001b[1;32m      3\u001b[0m \u001b[0;32mimport\u001b[0m \u001b[0murllib\u001b[0m\u001b[0;34m,\u001b[0m \u001b[0mcStringIO\u001b[0m\u001b[0;34m\u001b[0m\u001b[0m\n\u001b[1;32m      4\u001b[0m \u001b[0;34m\u001b[0m\u001b[0m\n\u001b[0;32m----> 5\u001b[0;31m \u001b[0;32mimport\u001b[0m \u001b[0mpymongo\u001b[0m \u001b[0;32mas\u001b[0m \u001b[0mpm\u001b[0m\u001b[0;34m\u001b[0m\u001b[0m\n\u001b[0m\u001b[1;32m      6\u001b[0m \u001b[0;34m\u001b[0m\u001b[0m\n\u001b[1;32m      7\u001b[0m \u001b[0;32mimport\u001b[0m \u001b[0mmatplotlib\u001b[0m\u001b[0;34m\u001b[0m\u001b[0m\n",
      "\u001b[0;31mImportError\u001b[0m: No module named pymongo"
     ]
    }
   ],
   "source": [
    "## remember to run conn_cocolab from the terminal before running cells in this notebook!\n",
    "import os\n",
    "import urllib, cStringIO\n",
    "\n",
    "import pymongo as pm\n",
    "\n",
    "import matplotlib\n",
    "from matplotlib import pylab, mlab, pyplot\n",
    "%matplotlib inline\n",
    "from IPython.core.pylabtools import figsize, getfigs\n",
    "plt = pyplot\n",
    "import seaborn as sns\n",
    "sns.set_context('poster')\n",
    "sns.set_style('white')\n",
    "\n",
    "import numpy as np\n",
    "from __future__ import division\n",
    "import scipy.stats as stats\n",
    "import pandas as pd\n",
    "import json\n",
    "import re\n",
    "\n",
    "from PIL import Image\n",
    "import base64\n",
    "import datetime\n",
    "\n",
    "# import svg_render_helpers as rdh\n",
    "from scipy.spatial import distance"
   ]
  },
  {
   "cell_type": "markdown",
   "metadata": {},
   "source": [
    "### file hierarchy and database connection vars"
   ]
  },
  {
   "cell_type": "code",
   "execution_count": 2,
   "metadata": {
    "collapsed": true
   },
   "outputs": [],
   "source": [
    "## directory & file hierarchy\n",
    "# iterationName = 'CDM_photodraw_e2_testing'\n",
    "iterationName = 'CDM_photodraw_e2'\n",
    "exp_path = 'photodraw'\n",
    "analysis_dir = os.getcwd()\n",
    "exp_dir = os.path.abspath(os.path.join(os.getcwd(),'../..','experiments'))\n",
    "##\n",
    "sketch_dir = os.path.join(analysis_dir,'sketches_CDM_included_only')\n",
    "if not os.path.exists(sketch_dir):\n",
    "    os.makedirs(sketch_dir)\n",
    "\n",
    "## dir where we can keep all sketches not binned by category    "
   ]
  },
  {
   "cell_type": "code",
   "execution_count": 3,
   "metadata": {
    "collapsed": true
   },
   "outputs": [],
   "source": [
    "# set vars \n",
    "auth = pd.read_csv('auth.txt', header = None) # this auth.txt file contains the password for the sketchloop user\n",
    "pswd = auth.values[0][0]\n",
    "user = 'sketchloop'\n",
    "host = 'rxdhawkins.me' ## cocolab ip address\n",
    "\n",
    "# have to fix this to be able to analyze from local\n",
    "import pymongo as pm\n",
    "conn = pm.MongoClient('mongodb://sketchloop:' + pswd + '@127.0.0.1')\n",
    "db = conn['kiddraw']\n",
    "coll = db['CDM_photodraw_e2']\n"
   ]
  },
  {
   "cell_type": "markdown",
   "metadata": {},
   "source": [
    "### Preprocessing data and rendering images"
   ]
  },
  {
   "cell_type": "markdown",
   "metadata": {},
   "source": [
    "Notes:\n",
    "There are two types of records in the database: 'stroke' and 'finalImage'. This is stored under the key: 'dataType'.\n",
    "The 'stroke'-type of record contains the svg string information. Every stroke event is stored as a separate record.\n",
    "The session identifier is called \"sessionId\".\n",
    "\n",
    "\n"
   ]
  },
  {
   "cell_type": "code",
   "execution_count": 4,
   "metadata": {},
   "outputs": [
    {
     "name": "stdout",
     "output_type": "stream",
     "text": [
      "We currently have 134 total sessions.\n"
     ]
    }
   ],
   "source": [
    "total_sessions = coll.find().distinct('sessionId') ## this returns ALL sessions in this collection.\n",
    "print 'We currently have {} total sessions.'.format(len(total_sessions))"
   ]
  },
  {
   "cell_type": "code",
   "execution_count": 9,
   "metadata": {
    "collapsed": true
   },
   "outputs": [],
   "source": [
    "exclude_ids = ['102618_3',\n",
    "'111218_7',\n",
    "'112818_3',\n",
    "'121918_1',\n",
    "'010919_5',\n",
    "'010919_10',\n",
    "'test',\n",
    "'Test',\n",
    "'']"
   ]
  },
  {
   "cell_type": "code",
   "execution_count": 10,
   "metadata": {},
   "outputs": [
    {
     "name": "stdout",
     "output_type": "stream",
     "text": [
      "We currently have 97 total session after exclusions/tests.\n"
     ]
    }
   ],
   "source": [
    "sessions_to_render =  coll.find({'$and': [{'dataType':'finalImage'},{'subID': {\"$nin\": exclude_ids}}]}).distinct('sessionId')\n",
    "print 'We currently have {} total session after exclusions/tests.'.format(len(sessions_to_render))"
   ]
  },
  {
   "cell_type": "code",
   "execution_count": 11,
   "metadata": {},
   "outputs": [
    {
     "name": "stdout",
     "output_type": "stream",
     "text": [
      "We currently have 95 total subIDs after exclusions/tests.\n"
     ]
    }
   ],
   "source": [
    "subIDS_to_render =  coll.find({'$and': [{'dataType':'finalImage'},{'subID': {\"$nin\": exclude_ids}}]}).distinct('subID')\n",
    "print 'We currently have {} total subIDs after exclusions/tests.'.format(len(subIDS_to_render))"
   ]
  },
  {
   "cell_type": "code",
   "execution_count": 8,
   "metadata": {},
   "outputs": [],
   "source": [
    "# image_recs = this_collection.find({'$and': [{'subID':'102618_1'}, {'dataType':'finalImage'}]}).sort('time')  \n",
    "# for image_rec in image_recs:\n",
    "#     image_rec\n",
    "#     print image_rec['imageName']"
   ]
  },
  {
   "cell_type": "code",
   "execution_count": 12,
   "metadata": {},
   "outputs": [
    {
     "data": {
      "text/plain": [
       "[u'102618_1',\n",
       " u'102618_2',\n",
       " u'102618-3',\n",
       " u'103118_1',\n",
       " u'103118_2',\n",
       " u'110218_1',\n",
       " u'110218_2',\n",
       " u'110718_1',\n",
       " u'110718_2',\n",
       " u'110918_1',\n",
       " u'111218_1',\n",
       " u'111218_2',\n",
       " u'111218_3',\n",
       " u'111218_4',\n",
       " u'111218_5',\n",
       " u'111218_6',\n",
       " u'111218_8',\n",
       " u'111418_1',\n",
       " u'111418_2',\n",
       " u'111418_3',\n",
       " u'111418_4',\n",
       " u'111418_6',\n",
       " u'111418_7',\n",
       " u'112818_1',\n",
       " u'112818_2',\n",
       " u'120718_1',\n",
       " u'121218_1',\n",
       " u'121418_1',\n",
       " u'121418_2',\n",
       " u'121418_3',\n",
       " u'121818_1',\n",
       " u'181219_1',\n",
       " u'121819_2',\n",
       " u'121819_3',\n",
       " u'O10919_1',\n",
       " u'010919_2',\n",
       " u'010919_3',\n",
       " u'010919_4',\n",
       " u'010919_6',\n",
       " u'010919_7',\n",
       " u'010919_8',\n",
       " u'010919_9',\n",
       " u'011119_1',\n",
       " u'011119_2',\n",
       " u'011119_3',\n",
       " u'011119_4',\n",
       " u'011109_5',\n",
       " u'011119_6',\n",
       " u'011119_7',\n",
       " u'011119_8',\n",
       " u'011119_9',\n",
       " u'011119_10',\n",
       " u'011119_11',\n",
       " u'011119_12',\n",
       " u'011119_13',\n",
       " u'011619_1',\n",
       " u'011619_2',\n",
       " u'011619_3',\n",
       " u'011619_4',\n",
       " u'011619_5',\n",
       " u'011619_6',\n",
       " u'011619_7',\n",
       " u'011619_8',\n",
       " u'011619_9',\n",
       " u'011819_1',\n",
       " u'011819_2',\n",
       " u'011819_3',\n",
       " u'011819_4',\n",
       " u'011819_5',\n",
       " u'011819_6',\n",
       " u'011819_7',\n",
       " u'011819_8',\n",
       " u'011819_9',\n",
       " u'0111819_10',\n",
       " u'012119_1',\n",
       " u'012119_2',\n",
       " u'012119_3',\n",
       " u'012119_4',\n",
       " u'012119_5',\n",
       " u'012119_6',\n",
       " u'012119_7',\n",
       " u'012119_8',\n",
       " u'012119_9',\n",
       " u'012119_10',\n",
       " u'012119_11',\n",
       " u'012519_1',\n",
       " u'012519_2',\n",
       " u'012519_3',\n",
       " u'012519_4',\n",
       " u'012519_5',\n",
       " u'012519_6',\n",
       " u'190130_1',\n",
       " u'013119_1',\n",
       " u'020719_1',\n",
       " u'020819_1']"
      ]
     },
     "execution_count": 12,
     "metadata": {},
     "output_type": "execute_result"
    }
   ],
   "source": [
    "subIDS_to_render"
   ]
  },
  {
   "cell_type": "code",
   "execution_count": 32,
   "metadata": {
    "collapsed": true
   },
   "outputs": [],
   "source": [
    "really_run_this = 1\n",
    "if really_run_this:\n",
    "    \n",
    "    ## img writing parameters\n",
    "    imsize = 224\n",
    "    \n",
    "    ## desired output: a dataframe that has trials on the rows, and the following columns:\n",
    "    ## category, age, number of strokes, mean_pixel_intensity, bounding_box_coordinates_LTRB, list of strokes, \n",
    "    ## PNG string, submission_time, submission_date\n",
    "    ## to be saved out as a nice tidy CSV\n",
    "    session_id = []\n",
    "    trial_num = []\n",
    "    category = []\n",
    "    num_strokes = []\n",
    "    mean_pixel_intensity = []\n",
    "    bounding_box_coords = []\n",
    "    svg = []\n",
    "    svg_times = []\n",
    "    png = []\n",
    "    submit_time = []\n",
    "    submit_date = []\n",
    "    draw_duration = []\n",
    "    draw_duration_strokes = []\n",
    "    filename = []\n",
    "    age=[]\n",
    "    countErr = 0\n",
    "    condition=[]\n",
    "    readadble_date = []\n",
    "    exclude_session_id = []\n",
    "    include_age = ['age4']\n",
    "\n",
    "    for s in total_sessions:\n",
    "        this_collection = coll\n",
    "        image_recs = this_collection.find({'$and': [{'sessionId':s}, {'dataType':'finalImage'}]}).sort('time')  \n",
    "        \n",
    "        for imrec in image_recs:  \n",
    "                stroke_recs = this_collection.find({'$and': [ \n",
    "                                                  {'sessionId':s}, \n",
    "                                                  {'dataType':'stroke'},\n",
    "                                                  {'category': imrec['category']}]}).sort('time')   \n",
    "\n",
    "                if stroke_recs.count() > 0: ## only include trials if the drawings are not blank            \n",
    "                    session_id.append(imrec['sessionId'])        \n",
    "                    trial_num.append(imrec['trialNum']) \n",
    "                    category.append(imrec['category'])\n",
    "\n",
    "                    try:    \n",
    "                        png.append(imrec['imgData'])\n",
    "                        submit_time.append(imrec['endTrialTime'])\n",
    "                        submit_date.append(imrec['date'])\n",
    "                        age.append(imrec['age'])\n",
    "                        condition.append(imrec['condition'])\n",
    "                        filename.append(os.path.join(sketch_dir,'{}_sketch_{}_{}_{}.png'.format(imrec['category'], imrec['sessionId'], imrec['condition'], imrec['age'])))\n",
    "                        num_strokes.append(stroke_recs.count())\n",
    "                        draw_duration.append(imrec['endTrialTime'] - imrec['startTrialTime'])\n",
    "\n",
    "                        _svg = [] # this keeps track of the strokes from THIS final image\n",
    "                        _svg_times = []\n",
    "                        for strec in stroke_recs:\n",
    "                            _svg.append(strec['svg'])\n",
    "                            _svg_times.append(strec['endStrokeTime'])\n",
    "                        draw_duration_strokes.append((_svg_times[-1] - _svg_times[0])/1000) ## in seconds\n",
    "\n",
    "                        ## and write out image data here too\n",
    "                        imgData = imrec['imgData'];\n",
    "                        filestr = base64.b64decode(imgData)\n",
    "                        child_dir = os.path.join(sketch_dir,imrec['sessionId'])\n",
    "                        if not os.path.exists(child_dir):\n",
    "                            os.makedirs(child_dir)\n",
    "                        fname = os.path.join(child_dir,'{}_sketch_{}_{}_{}.png'.format(imrec['category'],imrec['sessionId'],imrec['condition'], imrec['age']))\n",
    "                        with open(fname, \"wb\") as fh:\n",
    "                            fh.write(imgData.decode('base64'))  \n",
    "\n",
    "                    except Exception as e:\n",
    "                        print('something went wrong with an image')\n",
    "                        print e\n",
    "                        countErr = countErr + 1\n",
    "                        print imrec['category']\n",
    "                        child_dir = os.path.join(sketch_dir,'noname')\n",
    "                        if not os.path.exists(child_dir):\n",
    "                            os.makedirs(child_dir)\n",
    "                        fname = os.path.join(child_dir,'{}_sketch_{}_{}.png'.format(imrec['category'], 'noname',imrec['sessionId']))\n",
    "                        with open(fname, \"wb\") as fh:\n",
    "                            fh.write(imgData.decode('base64'))                   "
   ]
  },
  {
   "cell_type": "code",
   "execution_count": null,
   "metadata": {
    "collapsed": true
   },
   "outputs": [],
   "source": [
    "## How many session IDs do we have?\n",
    "count_subs = np.size(np.unique(session_id))\n",
    "print 'We have {}  subjects after exclusions.'.format(count_subs)"
   ]
  },
  {
   "cell_type": "code",
   "execution_count": null,
   "metadata": {
    "collapsed": true
   },
   "outputs": [],
   "source": [
    "## How many drawings do we have in each condition?  \n",
    "print 'We have {} semantic drawings.'.format(condition.count(\"S\"))\n",
    "print 'We have {} perception drawings.'.format(condition.count(\"P\")"
   ]
  },
  {
   "cell_type": "markdown",
   "metadata": {},
   "source": [
    "## Save out data into a dataframe"
   ]
  },
  {
   "cell_type": "code",
   "execution_count": null,
   "metadata": {
    "collapsed": true
   },
   "outputs": [],
   "source": [
    "really_run_this = 1 \n",
    "## compile data\n",
    "if really_run_this:\n",
    "    X = pd.DataFrame([session_id,age,trial_num,condition,category,submit_time,submit_date,num_strokes,svg,svg_times,png,draw_duration,avg_stroke_length,filename])\n",
    "    X = X.transpose()\n",
    "    X.columns = ['session_id','age','trial_num','condition','category','submit_time','submit_date','num_strokes','svg','svg_times','png','draw_duration', 'avg_stroke_length','filename']"
   ]
  }
 ],
 "metadata": {
  "kernelspec": {
   "display_name": "Python 2",
   "language": "python",
   "name": "python2"
  },
  "language_info": {
   "codemirror_mode": {
    "name": "ipython",
    "version": 2
   },
   "file_extension": ".py",
   "mimetype": "text/x-python",
   "name": "python",
   "nbconvert_exporter": "python",
   "pygments_lexer": "ipython2",
   "version": "2.7.16"
  }
 },
 "nbformat": 4,
 "nbformat_minor": 1
}
