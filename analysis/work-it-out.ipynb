{
 "cells": [
  {
   "cell_type": "code",
   "execution_count": 1,
   "metadata": {
    "collapsed": true
   },
   "outputs": [],
   "source": [
    "## basic library requirements\n",
    "from __future__ import division\n",
    "\n",
    "import os\n",
    "import urllib, cStringIO\n",
    "\n",
    "import numpy as np\n",
    "import scipy.stats as stats\n",
    "import pandas as pd\n",
    "import json\n",
    "import re\n",
    "\n",
    "from PIL import Image\n",
    "import base64\n",
    "import datetime\n",
    "import time"
   ]
  },
  {
   "cell_type": "markdown",
   "metadata": {},
   "source": [
    "### file hierarchy and database connection vars"
   ]
  },
  {
   "cell_type": "code",
   "execution_count": 2,
   "metadata": {
    "collapsed": true
   },
   "outputs": [],
   "source": [
    "# exclude IDs\n",
    "exclude_ids = ['asdf']\n",
    "\n",
    "# set path to database connectinos \n",
    "auth = pd.read_csv('auth.txt', header = None) \n",
    "pswd = auth.values[0][0]\n",
    "\n",
    "## use pymongo for database\n",
    "import pymongo as pm\n",
    "conn = pm.MongoClient('mongodb://stanford:' + pswd + '@127.0.0.1')\n",
    "db = conn['kiddraw']\n",
    "Praisedraw_pilot = db['Praisedraw_pilot_2']\n",
    "\n",
    "\n",
    "###### ###### ###### TOGGLE HERE WHICH DATABSE\n",
    "this_collection = Praisedraw_pilot\n",
    "which_run = 'Praisedraw_pilot_2'\n",
    "###### ###### ###### ######"
   ]
  },
  {
   "cell_type": "code",
   "execution_count": 3,
   "metadata": {
    "collapsed": true
   },
   "outputs": [],
   "source": [
    "analysis_dir = os.getcwd()\n",
    "sketch_dir = os.path.join(analysis_dir,'sketches_2')\n",
    "if not os.path.exists(sketch_dir):\n",
    "    os.makedirs(sketch_dir)\n",
    "\n",
    "output_dir = os.path.join(analysis_dir,'sketches_2')\n",
    "if not os.path.exists(output_dir):\n",
    "    os.makedirs(output_dir)"
   ]
  },
  {
   "cell_type": "markdown",
   "metadata": {},
   "source": [
    "### Define functions for use below in getting img intensities and bounding boxes\n"
   ]
  },
  {
   "cell_type": "code",
   "execution_count": 4,
   "metadata": {
    "collapsed": true
   },
   "outputs": [],
   "source": [
    "def load_image_data(imgData,imsize):\n",
    "    filestr = base64.b64decode(imgData)\n",
    "    fname = os.path.join('sketch.png')\n",
    "    with open(fname, \"wb\") as fh:\n",
    "        fh.write(imgData.decode('base64'))\n",
    "    im = Image.open(fname).resize((imsize,imsize))\n",
    "    _im = np.array(im)\n",
    "    return(_im)\n",
    "\n",
    "def get_mean_intensity(img,imsize):\n",
    "    thresh = 250\n",
    "    numpix = imsize**2\n",
    "    mean_intensity = len(np.where(img[:,:,3].flatten()>thresh)[0])/numpix\n",
    "    return mean_intensity\n",
    "    \n",
    "def get_bounding_box(img):\n",
    "    rows = np.any(img, axis=1)\n",
    "    cols = np.any(img, axis=0)\n",
    "    rmin, rmax = np.where(rows)[0][[0, -1]]\n",
    "    cmin, cmax = np.where(cols)[0][[0, -1]]\n",
    "    bounding_box = tuple((rmin, rmax, cmin, cmax))\n",
    "    return bounding_box"
   ]
  },
  {
   "cell_type": "code",
   "execution_count": null,
   "metadata": {
    "collapsed": true
   },
   "outputs": [],
   "source": []
  },
  {
   "cell_type": "code",
   "execution_count": null,
   "metadata": {
    "collapsed": true
   },
   "outputs": [],
   "source": []
  },
  {
   "cell_type": "markdown",
   "metadata": {},
   "source": [
    "### Preprocessing data and rendering images"
   ]
  },
  {
   "cell_type": "markdown",
   "metadata": {},
   "source": [
    "Notes:\n",
    "There are two types of records in the database: 'stroke' and 'finalImage'. This is stored under the key: 'dataType'.\n",
    "The 'stroke'-type of record contains the svg string information. Every stroke event is stored as a separate record.\n",
    "The session identifier is called \"sessionId\".\n",
    "\n",
    "\n"
   ]
  },
  {
   "cell_type": "code",
   "execution_count": 6,
   "metadata": {},
   "outputs": [],
   "source": [
    "# total_sessions = coll.find().distinct('sessionId') ## this returns ALL sessions in this collection.\n",
    "# print 'We currently have {} total sessions.'.format(len(total_sessions))"
   ]
  },
  {
   "cell_type": "code",
   "execution_count": 7,
   "metadata": {
    "collapsed": true
   },
   "outputs": [],
   "source": [
    "exclude_ids = [\n",
    "'test',\n",
    "'Test',\n",
    "'']"
   ]
  },
  {
   "cell_type": "code",
   "execution_count": 8,
   "metadata": {},
   "outputs": [
    {
     "name": "stdout",
     "output_type": "stream",
     "text": [
      "We currently have 6 total subIDs after exclusions/tests.\n"
     ]
    }
   ],
   "source": [
    "subIDS_to_render =  this_collection.find({'$and': [{'dataType':'finalImage'},{'subID': {\"$nin\": exclude_ids}}]}).distinct('subID')\n",
    "print 'We currently have {} total subIDs after exclusions/tests.'.format(len(subIDS_to_render))"
   ]
  },
  {
   "cell_type": "code",
   "execution_count": null,
   "metadata": {},
   "outputs": [],
   "source": []
  },
  {
   "cell_type": "code",
   "execution_count": 16,
   "metadata": {},
   "outputs": [],
   "source": [
    "######MASSIVE LOOP TO RENDER OUT IMAGES & INFO\n",
    "# basic variables for counting throughout the loop\n",
    "skipCount = 0;\n",
    "writeImageCount = 0;\n",
    "timeSave = []\n",
    "imsize = 224 ## img writing size, optimized for CNN\n",
    "countImage = 0\n",
    "alreadyWritten = 0\n",
    "\n",
    "\n",
    "###### Open up variables for CSV writing\n",
    "# basic descriptors\n",
    "session_id = []; trial_num = []; category = []; age = []; filename = []\n",
    "\n",
    "# stroke times and duration\n",
    "draw_duration = [];\n",
    "\n",
    "# drawing usage stats\n",
    "num_strokes = []\n",
    "mean_intensity = []\n",
    "bounding_box = []\n",
    "\n",
    "# trial time and duration\n",
    "start_time = []; submit_time = []; trial_duration = []\n",
    "\n",
    "# other timing variables\n",
    "submit_date = []; submit_date_readable=[]\n",
    "\n",
    "# photodraw2 specific\n",
    "image_name = [] #imageName\n",
    "condition = [] #condition\n",
    "subID = [] #subID\n",
    "CB = [] #CB\n",
    "time_start = time.time() ## \n"
   ]
  },
  {
   "cell_type": "code",
   "execution_count": 17,
   "metadata": {},
   "outputs": [
    {
     "name": "stdout",
     "output_type": "stream",
     "text": [
      "Writing out 5 images for subject PD_190501_01\n",
      "drawing duration = 5.393\n",
      "drawing duration = 7.805\n",
      "drawing duration = 10.747\n",
      "drawing duration = 12.248\n",
      "drawing duration = 33.588\n",
      "Writing out 5 images for subject PD_190501_02\n",
      "drawing duration = 14.482\n",
      "drawing duration = 3.445\n",
      "drawing duration = 9.891\n",
      "drawing duration = 54.49\n",
      "drawing duration = 14.626\n",
      "writing images!\n",
      "Weve written 10 images at in 0.0152750174205 minutes \n"
     ]
    },
    {
     "ename": "ValueError",
     "evalue": "Length mismatch: Expected axis has 16 elements, new values have 15 elements",
     "output_type": "error",
     "traceback": [
      "\u001b[0;31m---------------------------------------------------------------------------\u001b[0m",
      "\u001b[0;31mValueError\u001b[0m                                Traceback (most recent call last)",
      "\u001b[0;32m<ipython-input-17-4219c039ac84>\u001b[0m in \u001b[0;36m<module>\u001b[0;34m()\u001b[0m\n\u001b[1;32m     96\u001b[0m                         \u001b[0mX_out\u001b[0m \u001b[0;34m=\u001b[0m \u001b[0mpd\u001b[0m\u001b[0;34m.\u001b[0m\u001b[0mDataFrame\u001b[0m\u001b[0;34m(\u001b[0m\u001b[0;34m[\u001b[0m\u001b[0msession_id\u001b[0m\u001b[0;34m,\u001b[0m\u001b[0mtrial_num\u001b[0m\u001b[0;34m,\u001b[0m\u001b[0mcategory\u001b[0m\u001b[0;34m,\u001b[0m\u001b[0mage\u001b[0m\u001b[0;34m,\u001b[0m\u001b[0msubmit_time\u001b[0m\u001b[0;34m,\u001b[0m\u001b[0msubmit_date\u001b[0m\u001b[0;34m,\u001b[0m\u001b[0mnum_strokes\u001b[0m\u001b[0;34m,\u001b[0m\u001b[0mdraw_duration\u001b[0m\u001b[0;34m,\u001b[0m\u001b[0mtrial_duration\u001b[0m\u001b[0;34m,\u001b[0m \u001b[0mmean_intensity\u001b[0m\u001b[0;34m,\u001b[0m \u001b[0mbounding_box\u001b[0m\u001b[0;34m,\u001b[0m \u001b[0mfilename\u001b[0m\u001b[0;34m,\u001b[0m \u001b[0mcondition\u001b[0m\u001b[0;34m,\u001b[0m \u001b[0mCB\u001b[0m\u001b[0;34m,\u001b[0m \u001b[0msubID\u001b[0m\u001b[0;34m,\u001b[0m \u001b[0mimage_name\u001b[0m\u001b[0;34m]\u001b[0m\u001b[0;34m)\u001b[0m\u001b[0;34m\u001b[0m\u001b[0m\n\u001b[1;32m     97\u001b[0m                         \u001b[0mX_out\u001b[0m \u001b[0;34m=\u001b[0m \u001b[0mX_out\u001b[0m\u001b[0;34m.\u001b[0m\u001b[0mtranspose\u001b[0m\u001b[0;34m(\u001b[0m\u001b[0;34m)\u001b[0m\u001b[0;34m\u001b[0m\u001b[0m\n\u001b[0;32m---> 98\u001b[0;31m                         \u001b[0mX_out\u001b[0m\u001b[0;34m.\u001b[0m\u001b[0mcolumns\u001b[0m \u001b[0;34m=\u001b[0m \u001b[0;34m[\u001b[0m\u001b[0;34m'session_id'\u001b[0m\u001b[0;34m,\u001b[0m\u001b[0;34m'trial_num'\u001b[0m\u001b[0;34m,\u001b[0m\u001b[0;34m'category'\u001b[0m\u001b[0;34m,\u001b[0m\u001b[0;34m'submit_time'\u001b[0m\u001b[0;34m,\u001b[0m\u001b[0;34m'submit_date'\u001b[0m\u001b[0;34m,\u001b[0m\u001b[0;34m'num_strokes'\u001b[0m\u001b[0;34m,\u001b[0m\u001b[0;34m'draw_duration'\u001b[0m\u001b[0;34m,\u001b[0m\u001b[0;34m'trial_duration'\u001b[0m\u001b[0;34m,\u001b[0m\u001b[0;34m'mean_intensity'\u001b[0m\u001b[0;34m,\u001b[0m\u001b[0;34m'bounding_box'\u001b[0m\u001b[0;34m,\u001b[0m\u001b[0;34m'filename'\u001b[0m\u001b[0;34m,\u001b[0m\u001b[0;34m'condition'\u001b[0m\u001b[0;34m,\u001b[0m\u001b[0;34m'CB'\u001b[0m\u001b[0;34m,\u001b[0m\u001b[0;34m'subID'\u001b[0m\u001b[0;34m,\u001b[0m\u001b[0;34m'image_name'\u001b[0m\u001b[0;34m]\u001b[0m\u001b[0;34m\u001b[0m\u001b[0m\n\u001b[0m\u001b[1;32m     99\u001b[0m                         \u001b[0mX_out\u001b[0m\u001b[0;34m.\u001b[0m\u001b[0mto_csv\u001b[0m\u001b[0;34m(\u001b[0m\u001b[0mos\u001b[0m\u001b[0;34m.\u001b[0m\u001b[0mpath\u001b[0m\u001b[0;34m.\u001b[0m\u001b[0mjoin\u001b[0m\u001b[0;34m(\u001b[0m\u001b[0moutput_dir\u001b[0m\u001b[0;34m,\u001b[0m\u001b[0;34m'Praisedraw_AllDescriptives_{}_images_{}_start_{}.csv'\u001b[0m\u001b[0;34m.\u001b[0m\u001b[0mformat\u001b[0m\u001b[0;34m(\u001b[0m\u001b[0mwriteImageCount\u001b[0m\u001b[0;34m,\u001b[0m \u001b[0mwhich_run\u001b[0m\u001b[0;34m,\u001b[0m\u001b[0malreadyWritten\u001b[0m\u001b[0;34m)\u001b[0m\u001b[0;34m)\u001b[0m\u001b[0;34m)\u001b[0m\u001b[0;34m\u001b[0m\u001b[0m\n",
      "\u001b[0;32m/Users/brialong/anaconda2/lib/python2.7/site-packages/pandas/core/generic.pyc\u001b[0m in \u001b[0;36m__setattr__\u001b[0;34m(self, name, value)\u001b[0m\n\u001b[1;32m   3092\u001b[0m         \u001b[0;32mtry\u001b[0m\u001b[0;34m:\u001b[0m\u001b[0;34m\u001b[0m\u001b[0m\n\u001b[1;32m   3093\u001b[0m             \u001b[0mobject\u001b[0m\u001b[0;34m.\u001b[0m\u001b[0m__getattribute__\u001b[0m\u001b[0;34m(\u001b[0m\u001b[0mself\u001b[0m\u001b[0;34m,\u001b[0m \u001b[0mname\u001b[0m\u001b[0;34m)\u001b[0m\u001b[0;34m\u001b[0m\u001b[0m\n\u001b[0;32m-> 3094\u001b[0;31m             \u001b[0;32mreturn\u001b[0m \u001b[0mobject\u001b[0m\u001b[0;34m.\u001b[0m\u001b[0m__setattr__\u001b[0m\u001b[0;34m(\u001b[0m\u001b[0mself\u001b[0m\u001b[0;34m,\u001b[0m \u001b[0mname\u001b[0m\u001b[0;34m,\u001b[0m \u001b[0mvalue\u001b[0m\u001b[0;34m)\u001b[0m\u001b[0;34m\u001b[0m\u001b[0m\n\u001b[0m\u001b[1;32m   3095\u001b[0m         \u001b[0;32mexcept\u001b[0m \u001b[0mAttributeError\u001b[0m\u001b[0;34m:\u001b[0m\u001b[0;34m\u001b[0m\u001b[0m\n\u001b[1;32m   3096\u001b[0m             \u001b[0;32mpass\u001b[0m\u001b[0;34m\u001b[0m\u001b[0m\n",
      "\u001b[0;32mpandas/_libs/src/properties.pyx\u001b[0m in \u001b[0;36mpandas._libs.lib.AxisProperty.__set__\u001b[0;34m()\u001b[0m\n",
      "\u001b[0;32m/Users/brialong/anaconda2/lib/python2.7/site-packages/pandas/core/generic.pyc\u001b[0m in \u001b[0;36m_set_axis\u001b[0;34m(self, axis, labels)\u001b[0m\n\u001b[1;32m    471\u001b[0m \u001b[0;34m\u001b[0m\u001b[0m\n\u001b[1;32m    472\u001b[0m     \u001b[0;32mdef\u001b[0m \u001b[0m_set_axis\u001b[0m\u001b[0;34m(\u001b[0m\u001b[0mself\u001b[0m\u001b[0;34m,\u001b[0m \u001b[0maxis\u001b[0m\u001b[0;34m,\u001b[0m \u001b[0mlabels\u001b[0m\u001b[0;34m)\u001b[0m\u001b[0;34m:\u001b[0m\u001b[0;34m\u001b[0m\u001b[0m\n\u001b[0;32m--> 473\u001b[0;31m         \u001b[0mself\u001b[0m\u001b[0;34m.\u001b[0m\u001b[0m_data\u001b[0m\u001b[0;34m.\u001b[0m\u001b[0mset_axis\u001b[0m\u001b[0;34m(\u001b[0m\u001b[0maxis\u001b[0m\u001b[0;34m,\u001b[0m \u001b[0mlabels\u001b[0m\u001b[0;34m)\u001b[0m\u001b[0;34m\u001b[0m\u001b[0m\n\u001b[0m\u001b[1;32m    474\u001b[0m         \u001b[0mself\u001b[0m\u001b[0;34m.\u001b[0m\u001b[0m_clear_item_cache\u001b[0m\u001b[0;34m(\u001b[0m\u001b[0;34m)\u001b[0m\u001b[0;34m\u001b[0m\u001b[0m\n\u001b[1;32m    475\u001b[0m \u001b[0;34m\u001b[0m\u001b[0m\n",
      "\u001b[0;32m/Users/brialong/anaconda2/lib/python2.7/site-packages/pandas/core/internals.pyc\u001b[0m in \u001b[0;36mset_axis\u001b[0;34m(self, axis, new_labels)\u001b[0m\n\u001b[1;32m   2834\u001b[0m             raise ValueError('Length mismatch: Expected axis has %d elements, '\n\u001b[1;32m   2835\u001b[0m                              \u001b[0;34m'new values have %d elements'\u001b[0m \u001b[0;34m%\u001b[0m\u001b[0;34m\u001b[0m\u001b[0m\n\u001b[0;32m-> 2836\u001b[0;31m                              (old_len, new_len))\n\u001b[0m\u001b[1;32m   2837\u001b[0m \u001b[0;34m\u001b[0m\u001b[0m\n\u001b[1;32m   2838\u001b[0m         \u001b[0mself\u001b[0m\u001b[0;34m.\u001b[0m\u001b[0maxes\u001b[0m\u001b[0;34m[\u001b[0m\u001b[0maxis\u001b[0m\u001b[0;34m]\u001b[0m \u001b[0;34m=\u001b[0m \u001b[0mnew_labels\u001b[0m\u001b[0;34m\u001b[0m\u001b[0m\n",
      "\u001b[0;31mValueError\u001b[0m: Length mismatch: Expected axis has 16 elements, new values have 15 elements"
     ]
    }
   ],
   "source": [
    "## Go through each session\n",
    "for s in subIDS_to_render:      \n",
    "    # in the latest version of museumstation (cdm_run_v4), more info on timing and survey for exclusions\n",
    "    image_recs = this_collection.find({'$and': [{'subID':s}, {'dataType':'finalImage'}]}).sort('startTrialTime')    \n",
    "    print 'Writing out {} images for subject {}'.format(image_recs.count(),s)\n",
    "\n",
    "    ## if they made it past the try it trials\n",
    "    if image_recs.count()>1: \n",
    "            for imrec in image_recs:                                                            \n",
    "                category_dir = os.path.join(sketch_dir,imrec['condition'])\n",
    "                if not os.path.exists(category_dir):\n",
    "                    os.makedirs(category_dir)\n",
    "                # filename\n",
    "                fname = os.path.join(category_dir,'{}_{}_sketch_{}_{}.png'.format(imrec['condition'],imrec['category'],imrec['sessionId'],imrec['subID']))\n",
    "                stroke_recs = this_collection.find({'$and': [{'subID':s}, \n",
    "                                  {'dataType':'stroke'},\n",
    "                                  {'trialNum': imrec['trialNum']}]}).sort('startTrialTime')   \n",
    "\n",
    "\n",
    "                if stroke_recs.count()==0:\n",
    "                    print('skipped image')\n",
    "\n",
    "                # don't do adults for now or blank images   \n",
    "                elif stroke_recs.count()>0:                               \n",
    "                    countImage = countImage + 1;\n",
    "                    ## Append session ID, trial Num, category, age                            \n",
    "                    session_id.append(imrec['sessionId'])        \n",
    "                    trial_num.append(imrec['trialNum']) \n",
    "                    category.append(imrec['category'])\n",
    "                    filename.append(fname) # defined\n",
    "\n",
    "                    ## photodraw2 specific variables\n",
    "                    try:\n",
    "                        image_name.append(imrec['imageName'])\n",
    "                    except:\n",
    "                        image_name.append(imrec['category'])\n",
    "                        # print 'subbed category for imagename for category {}'.format(imrec['category'])\n",
    "\n",
    "                    CB.append(imrec['CB']) # which counterbalancing\n",
    "                    subID.append(imrec['subID']) #unique identifier\n",
    "                    condition.append(imrec['condition']) #semantic or perception\n",
    "\n",
    "                    ## again, regularize based on timing info change\n",
    "                    start_time.append(imrec['startTrialTime'])\n",
    "                    submit_time.append(imrec['endTrialTime'])\n",
    "                    trial_duration.append((imrec['endTrialTime'] - imrec['startTrialTime'])/1000.00)\n",
    "                    readadble_date = datetime.datetime.fromtimestamp(imrec['endTrialTime']/1000.0).strftime('%Y-%m-%d %H:%M:%S.%f')\n",
    "\n",
    "                    ## readable date (not just time, has other info for sanity cecks)\n",
    "                    submit_date_readable.append(readadble_date)\n",
    "                    submit_date.append(imrec['date'])\n",
    "\n",
    "                    ## Count number of strokes and timing information as well on stroke basis\n",
    "                    num_strokes.append(stroke_recs.count())\n",
    "                    _svg_end_times = []\n",
    "                    _svg_start_times = []\n",
    "\n",
    "                    for strec in stroke_recs:\n",
    "                        _svg_end_times.append(strec['endStrokeTime'])\n",
    "                        _svg_start_times.append(strec['startStrokeTime'])\n",
    "\n",
    "                    duration = (_svg_end_times[-1] - _svg_start_times[0])/1000\n",
    "                                        ## draw duration (last stroke end - first stroke START)\n",
    "                    draw_duration.append(duration) ## in seconds\n",
    "                    print('drawing duration = {}').format(duration)\n",
    "\n",
    "                    ## get bounding box and mean pixel intensity\n",
    "                    this_image = load_image_data(imrec['imgData'],imsize)\n",
    "\n",
    "                    this_intensity = get_mean_intensity(this_image,imsize)\n",
    "                    if this_intensity>0:\n",
    "                        this_bounding_box = get_bounding_box(this_image)\n",
    "                    else:\n",
    "                        this_bounding_box= tuple((0,0,0,0,))\n",
    "                    #\n",
    "                    bounding_box.append(this_bounding_box)\n",
    "                    mean_intensity.append(this_intensity)\n",
    "\n",
    "                    ## Write out image data\n",
    "                    imgData = imrec['imgData'];\n",
    "                    writeImageCount = writeImageCount+1\n",
    "\n",
    "                    with open(fname, \"wb\") as fh:\n",
    "                        fh.write(imgData.decode('base64')) \n",
    "                         \n",
    "                    if np.mod(writeImageCount,10)==0:\n",
    "                        print('writing images!') # sanity check script is working\n",
    "                        \n",
    "                    if np.mod(writeImageCount,10)==0:\n",
    "                        time_now = time.time() \n",
    "                        time_spent_sec = (time_now - time_start)\n",
    "                        time_spent = time_spent_sec/60\n",
    "                        print('Weve written {} images at in {} minutes '.format(writeImageCount, time_spent))\n",
    "\n",
    "                        # write out csv every 1000 images\n",
    "                        X_out = pd.DataFrame([session_id,trial_num,category,age,submit_time,submit_date,num_strokes,draw_duration,trial_duration, mean_intensity, bounding_box, filename, condition, CB, subID, image_name])\n",
    "                        X_out = X_out.transpose()\n",
    "                        X_out.columns = ['session_id','trial_num','category','submit_time','submit_date','num_strokes','draw_duration','trial_duration','mean_intensity','bounding_box','filename','condition','CB','subID','image_name']\n",
    "                        X_out.to_csv(os.path.join(output_dir,'Praisedraw_AllDescriptives_{}_images_{}_start_{}.csv'.format(writeImageCount, which_run,alreadyWritten)))\n"
   ]
  },
  {
   "cell_type": "markdown",
   "metadata": {},
   "source": [
    "## Save out data into a dataframe"
   ]
  },
  {
   "cell_type": "code",
   "execution_count": 14,
   "metadata": {},
   "outputs": [
    {
     "ename": "NameError",
     "evalue": "name 'svg' is not defined",
     "output_type": "error",
     "traceback": [
      "\u001b[0;31m---------------------------------------------------------------------------\u001b[0m",
      "\u001b[0;31mNameError\u001b[0m                                 Traceback (most recent call last)",
      "\u001b[0;32m<ipython-input-14-b151fc5ae0c6>\u001b[0m in \u001b[0;36m<module>\u001b[0;34m()\u001b[0m\n\u001b[1;32m      2\u001b[0m \u001b[0;31m## compile data\u001b[0m\u001b[0;34m\u001b[0m\u001b[0;34m\u001b[0m\u001b[0m\n\u001b[1;32m      3\u001b[0m \u001b[0;32mif\u001b[0m \u001b[0mreally_run_this\u001b[0m\u001b[0;34m:\u001b[0m\u001b[0;34m\u001b[0m\u001b[0m\n\u001b[0;32m----> 4\u001b[0;31m     \u001b[0mX\u001b[0m \u001b[0;34m=\u001b[0m \u001b[0mpd\u001b[0m\u001b[0;34m.\u001b[0m\u001b[0mDataFrame\u001b[0m\u001b[0;34m(\u001b[0m\u001b[0;34m[\u001b[0m\u001b[0msession_id\u001b[0m\u001b[0;34m,\u001b[0m\u001b[0mage\u001b[0m\u001b[0;34m,\u001b[0m\u001b[0mtrial_num\u001b[0m\u001b[0;34m,\u001b[0m\u001b[0mcondition\u001b[0m\u001b[0;34m,\u001b[0m\u001b[0mcategory\u001b[0m\u001b[0;34m,\u001b[0m\u001b[0msubmit_time\u001b[0m\u001b[0;34m,\u001b[0m\u001b[0msubmit_date\u001b[0m\u001b[0;34m,\u001b[0m\u001b[0mnum_strokes\u001b[0m\u001b[0;34m,\u001b[0m\u001b[0msvg\u001b[0m\u001b[0;34m,\u001b[0m\u001b[0msvg_times\u001b[0m\u001b[0;34m,\u001b[0m\u001b[0mpng\u001b[0m\u001b[0;34m,\u001b[0m\u001b[0mdraw_duration\u001b[0m\u001b[0;34m,\u001b[0m\u001b[0mavg_stroke_length\u001b[0m\u001b[0;34m,\u001b[0m\u001b[0mfilename\u001b[0m\u001b[0;34m]\u001b[0m\u001b[0;34m)\u001b[0m\u001b[0;34m\u001b[0m\u001b[0m\n\u001b[0m\u001b[1;32m      5\u001b[0m     \u001b[0mX\u001b[0m \u001b[0;34m=\u001b[0m \u001b[0mX\u001b[0m\u001b[0;34m.\u001b[0m\u001b[0mtranspose\u001b[0m\u001b[0;34m(\u001b[0m\u001b[0;34m)\u001b[0m\u001b[0;34m\u001b[0m\u001b[0m\n\u001b[1;32m      6\u001b[0m     \u001b[0mX\u001b[0m\u001b[0;34m.\u001b[0m\u001b[0mcolumns\u001b[0m \u001b[0;34m=\u001b[0m \u001b[0;34m[\u001b[0m\u001b[0;34m'session_id'\u001b[0m\u001b[0;34m,\u001b[0m\u001b[0;34m'age'\u001b[0m\u001b[0;34m,\u001b[0m\u001b[0;34m'trial_num'\u001b[0m\u001b[0;34m,\u001b[0m\u001b[0;34m'condition'\u001b[0m\u001b[0;34m,\u001b[0m\u001b[0;34m'category'\u001b[0m\u001b[0;34m,\u001b[0m\u001b[0;34m'submit_time'\u001b[0m\u001b[0;34m,\u001b[0m\u001b[0;34m'submit_date'\u001b[0m\u001b[0;34m,\u001b[0m\u001b[0;34m'num_strokes'\u001b[0m\u001b[0;34m,\u001b[0m\u001b[0;34m'svg'\u001b[0m\u001b[0;34m,\u001b[0m\u001b[0;34m'svg_times'\u001b[0m\u001b[0;34m,\u001b[0m\u001b[0;34m'png'\u001b[0m\u001b[0;34m,\u001b[0m\u001b[0;34m'draw_duration'\u001b[0m\u001b[0;34m,\u001b[0m \u001b[0;34m'avg_stroke_length'\u001b[0m\u001b[0;34m,\u001b[0m\u001b[0;34m'filename'\u001b[0m\u001b[0;34m]\u001b[0m\u001b[0;34m\u001b[0m\u001b[0m\n",
      "\u001b[0;31mNameError\u001b[0m: name 'svg' is not defined"
     ]
    }
   ],
   "source": [
    "really_run_this = 1 \n",
    "## compile data\n",
    "if really_run_this:\n",
    "    X = pd.DataFrame([session_id,age,trial_num,condition,category,submit_time,submit_date,num_strokes,svg,svg_times,png,draw_duration,avg_stroke_length,filename])\n",
    "    X = X.transpose()\n",
    "    X.columns = ['session_id','age','trial_num','condition','category','submit_time','submit_date','num_strokes','svg_times','png','draw_duration', 'avg_stroke_length','filename']"
   ]
  },
  {
   "cell_type": "code",
   "execution_count": null,
   "metadata": {
    "collapsed": true
   },
   "outputs": [],
   "source": []
  }
 ],
 "metadata": {
  "kernelspec": {
   "display_name": "Python 2",
   "language": "python",
   "name": "python2"
  },
  "language_info": {
   "codemirror_mode": {
    "name": "ipython",
    "version": 2
   },
   "file_extension": ".py",
   "mimetype": "text/x-python",
   "name": "python",
   "nbconvert_exporter": "python",
   "pygments_lexer": "ipython2",
   "version": "2.7.14"
  }
 },
 "nbformat": 4,
 "nbformat_minor": 1
}
